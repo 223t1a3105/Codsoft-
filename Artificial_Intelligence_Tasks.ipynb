{
  "nbformat": 4,
  "nbformat_minor": 0,
  "metadata": {
    "colab": {
      "provenance": [],
      "authorship_tag": "ABX9TyNPLRpBlAyODe24jTw7QuLt",
      "include_colab_link": true
    },
    "kernelspec": {
      "name": "python3",
      "display_name": "Python 3"
    },
    "language_info": {
      "name": "python"
    }
  },
  "cells": [
    {
      "cell_type": "markdown",
      "metadata": {
        "id": "view-in-github",
        "colab_type": "text"
      },
      "source": [
        "<a href=\"https://colab.research.google.com/github/223t1a3105/Codsoft-/blob/main/Artificial_Intelligence_Tasks.ipynb\" target=\"_parent\"><img src=\"https://colab.research.google.com/assets/colab-badge.svg\" alt=\"Open In Colab\"/></a>"
      ]
    },
    {
      "cell_type": "markdown",
      "source": [
        "**CHATBOT WITH RULE-BASED RESPONSES  Task - 1**"
      ],
      "metadata": {
        "id": "ukzgf_ITEbcv"
      }
    },
    {
      "cell_type": "code",
      "source": [
        "def chatbot_response(user_input):\n",
        "    # Convert input to lowercase to make matching case-insensitive\n",
        "    user_input = user_input.lower()\n",
        "\n",
        "    # Simple responses based on keywords\n",
        "    if \"hello\" in user_input or \"hi\" in user_input:\n",
        "        return \"Hello! How can I assist you today?\"\n",
        "\n",
        "    elif \"how are you\" in user_input:\n",
        "        return \"I'm just a program, but I'm functioning as expected! How about you?\"\n",
        "\n",
        "    elif \"your name\" in user_input:\n",
        "        return \"I’m a simple chatbot created to assist you with basic queries. What's your name?\"\n",
        "\n",
        "    elif \"weather\" in user_input:\n",
        "        return \"I'm not connected to the internet, so I can't provide real-time weather updates. But it's always a good idea to carry an umbrella just in case!\"\n",
        "\n",
        "    elif \"bye\" in user_input or \"goodbye\" in user_input:\n",
        "        return \"Goodbye! Have a great day!\"\n",
        "\n",
        "    else:\n",
        "        return \"I'm sorry, I didn't understand that. Can you please rephrase your question?\"\n",
        "\n",
        "# Main chat loop\n",
        "def chat():\n",
        "    print(\"Chatbot: Hello! Type 'bye' to exit.\")\n",
        "    while True:\n",
        "        user_input = input(\"You: \")\n",
        "        if user_input.lower() in ['bye', 'goodbye']:\n",
        "            print(\"Chatbot: Goodbye! Have a great day!\")\n",
        "            break\n",
        "        response = chatbot_response(user_input)\n",
        "        print(\"Chatbot:\", response)\n",
        "\n",
        "# Start the chatbot\n",
        "chat()\n"
      ],
      "metadata": {
        "colab": {
          "base_uri": "https://localhost:8080/"
        },
        "id": "_qsVoNWzLvLj",
        "outputId": "b928c698-f7b1-4651-de68-cb6010a5d4bb"
      },
      "execution_count": null,
      "outputs": [
        {
          "output_type": "stream",
          "name": "stdout",
          "text": [
            "Chatbot: Hello! Type 'bye' to exit.\n",
            "You: hi\n",
            "Chatbot: Hello! How can I assist you today?\n",
            "You: What's your name\n",
            "Chatbot: I’m a simple chatbot created to assist you with basic queries. What's your name?\n",
            "You: How is the weather\n",
            "Chatbot: I'm not connected to the internet, so I can't provide real-time weather updates. But it's always a good idea to carry an umbrella just in case!\n",
            "You: Good bye!\n",
            "Chatbot: Goodbye! Have a great day!\n",
            "You: bye\n",
            "Chatbot: Goodbye! Have a great day!\n"
          ]
        }
      ]
    },
    {
      "cell_type": "markdown",
      "source": [
        "**Tic Tac Toe Task-2**"
      ],
      "metadata": {
        "id": "2BBrDzuDSK0t"
      }
    },
    {
      "cell_type": "code",
      "source": [
        "def play_game():\n",
        "    print(\"Welcome to Tic-Tac-Toe! You are X, and the AI is O.\")\n",
        "    print_board(board)\n",
        "\n",
        "    while True:\n",
        "        # Human player's move\n",
        "        move = int(input(\"Enter your move (1-9): \")) - 1\n",
        "        if board[move] != ' ':\n",
        "            print(\"Invalid move. Try again.\")\n",
        "            continue\n",
        "        make_move(board, move, 'X')\n",
        "        print_board(board)\n",
        "\n",
        "        if check_winner(board, 'X'):\n",
        "            print(\"Congratulations, you win!\")\n",
        "            break\n",
        "        if is_board_full(board):\n",
        "            print(\"It's a tie!\")\n",
        "            break\n",
        "\n",
        "        # AI's move\n",
        "        print(\"AI's move:\")\n",
        "        move = ai_move(board)\n",
        "        make_move(board, move, 'O')\n",
        "        print_board(board)\n",
        "\n",
        "        if check_winner(board, 'O'):\n",
        "            print(\"AI wins! Better luck next time.\")\n",
        "            break\n",
        "        if is_board_full(board):\n",
        "            print(\"It's a tie!\")\n",
        "            break\n",
        "\n",
        "play_game()\n"
      ],
      "metadata": {
        "colab": {
          "base_uri": "https://localhost:8080/"
        },
        "id": "TUdDC3ywOTm8",
        "outputId": "79f95a90-5915-4ac1-b8b4-154691aee66b"
      },
      "execution_count": null,
      "outputs": [
        {
          "output_type": "stream",
          "name": "stdout",
          "text": [
            "Welcome to Tic-Tac-Toe! You are X, and the AI is O.\n",
            "|   |   |   |\n",
            "|   |   |   |\n",
            "|   |   |   |\n",
            "Enter your move (1-9): 5\n",
            "|   |   |   |\n",
            "|   | X |   |\n",
            "|   |   |   |\n",
            "AI's move:\n",
            "| O |   |   |\n",
            "|   | X |   |\n",
            "|   |   |   |\n",
            "Enter your move (1-9): 4\n",
            "| O |   |   |\n",
            "| X | X |   |\n",
            "|   |   |   |\n",
            "AI's move:\n",
            "| O |   |   |\n",
            "| X | X | O |\n",
            "|   |   |   |\n",
            "Enter your move (1-9): 9\n",
            "| O |   |   |\n",
            "| X | X | O |\n",
            "|   |   | X |\n",
            "AI's move:\n",
            "| O | O |   |\n",
            "| X | X | O |\n",
            "|   |   | X |\n",
            "Enter your move (1-9): 7\n",
            "| O | O |   |\n",
            "| X | X | O |\n",
            "| X |   | X |\n",
            "AI's move:\n",
            "| O | O | O |\n",
            "| X | X | O |\n",
            "| X |   | X |\n",
            "AI wins! Better luck next time.\n"
          ]
        }
      ]
    },
    {
      "cell_type": "markdown",
      "source": [
        "**RECOMMENDATION SYSTEM TASK-3**"
      ],
      "metadata": {
        "id": "3xh1Qhwd9L4Z"
      }
    },
    {
      "cell_type": "code",
      "source": [
        "import pandas as pd\n",
        "from sklearn.metrics.pairwise import cosine_similarity\n",
        "from sklearn.preprocessing import StandardScaler\n",
        "from sklearn.metrics import pairwise_distances\n"
      ],
      "metadata": {
        "id": "4vm2W9hD8qjL"
      },
      "execution_count": 6,
      "outputs": []
    },
    {
      "cell_type": "code",
      "source": [
        "# Example user-item ratings data\n",
        "data = {\n",
        "    'User': ['User1', 'User1', 'User2', 'User2', 'User3', 'User3', 'User4', 'User4'],\n",
        "    'Item': ['Item1', 'Item2', 'Item1', 'Item3', 'Item2', 'Item4', 'Item3', 'Item5'],\n",
        "    'Rating': [5, 3, 4, 2, 4, 5, 2, 3]\n",
        "}\n",
        "\n",
        "df = pd.DataFrame(data)\n",
        "\n",
        "# Pivot the data to create a user-item matrix\n",
        "user_item_matrix = df.pivot_table(index='User', columns='Item', values='Rating')\n",
        "user_item_matrix = user_item_matrix.fillna(0)\n"
      ],
      "metadata": {
        "id": "7XmO3kqE8xaF"
      },
      "execution_count": 7,
      "outputs": []
    },
    {
      "cell_type": "code",
      "source": [
        "# Compute the similarity matrix\n",
        "user_similarity = cosine_similarity(user_item_matrix)\n",
        "user_similarity_df = pd.DataFrame(user_similarity, index=user_item_matrix.index, columns=user_item_matrix.index)\n",
        "\n",
        "# Function to get recommendations\n",
        "def get_recommendations(user, user_item_matrix, user_similarity_df):\n",
        "    similar_users = user_similarity_df[user].sort_values(ascending=False).index\n",
        "    similar_users = similar_users[similar_users != user]  # Exclude the user itself\n",
        "    recommendations = {}\n",
        "\n",
        "    for similar_user in similar_users:\n",
        "        similar_user_ratings = user_item_matrix.loc[similar_user]\n",
        "        for item, rating in similar_user_ratings.items():\n",
        "            if rating > 0 and item not in user_item_matrix.loc[user].index:\n",
        "                if item not in recommendations:\n",
        "                    recommendations[item] = 0\n",
        "                recommendations[item] += rating * user_similarity_df.loc[user, similar_user]\n",
        "\n",
        "    # Return top recommendations\n",
        "    sorted_recommendations = sorted(recommendations.items(), key=lambda x: x[1], reverse=True)\n",
        "    return [item for item, score in sorted_recommendations]\n",
        "\n",
        "# Example usage\n",
        "user = 'User1'\n",
        "print(f\"Recommendations for {user}: {get_recommendations(user, user_item_matrix, user_similarity_df)}\")\n"
      ],
      "metadata": {
        "colab": {
          "base_uri": "https://localhost:8080/"
        },
        "id": "ndDiCj6V80w6",
        "outputId": "888b820f-dcbf-4c07-99dd-098d08eb20e9"
      },
      "execution_count": 8,
      "outputs": [
        {
          "output_type": "stream",
          "name": "stdout",
          "text": [
            "Recommendations for User1: []\n"
          ]
        }
      ]
    }
  ]
}