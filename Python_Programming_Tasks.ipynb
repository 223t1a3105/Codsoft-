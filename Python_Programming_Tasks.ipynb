{
  "nbformat": 4,
  "nbformat_minor": 0,
  "metadata": {
    "colab": {
      "provenance": [],
      "authorship_tag": "ABX9TyOGkOtd5eYTKxe2jOW5hzDD",
      "include_colab_link": true
    },
    "kernelspec": {
      "name": "python3",
      "display_name": "Python 3"
    },
    "language_info": {
      "name": "python"
    }
  },
  "cells": [
    {
      "cell_type": "markdown",
      "metadata": {
        "id": "view-in-github",
        "colab_type": "text"
      },
      "source": [
        "<a href=\"https://colab.research.google.com/github/223t1a3105/Codsoft-/blob/main/Python_Programming_Tasks.ipynb\" target=\"_parent\"><img src=\"https://colab.research.google.com/assets/colab-badge.svg\" alt=\"Open In Colab\"/></a>"
      ]
    },
    {
      "cell_type": "markdown",
      "source": [
        "**To-Do List** **Task 1**"
      ],
      "metadata": {
        "id": "ArTW7XwcbrWO"
      }
    },
    {
      "cell_type": "code",
      "source": [
        "class ToDoList:\n",
        "    def __init__(self):\n",
        "        self.tasks = []\n",
        "\n",
        "    def add_task(self, task):\n",
        "        self.tasks.append({\"task\": task, \"completed\": False})\n",
        "        print(f'Added task: \"{task}\"')\n",
        "\n",
        "    def complete_task(self, task_number):\n",
        "        if 0 <= task_number < len(self.tasks):\n",
        "            self.tasks[task_number][\"completed\"] = True\n",
        "            print(f'Task {task_number + 1} marked as completed.')\n",
        "        else:\n",
        "            print(\"Invalid task number.\")\n",
        "\n",
        "    def delete_task(self, task_number):\n",
        "        if 0 <= task_number < len(self.tasks):\n",
        "            removed_task = self.tasks.pop(task_number)\n",
        "            print(f'Deleted task: \"{removed_task[\"task\"]}\"')\n",
        "        else:\n",
        "            print(\"Invalid task number.\")\n",
        "\n",
        "    def view_tasks(self):\n",
        "        if not self.tasks:\n",
        "            print(\"No tasks in the list.\")\n",
        "        else:\n",
        "            print(\"To-Do List:\")\n",
        "            for i, task in enumerate(self.tasks):\n",
        "                status = \"Completed\" if task[\"completed\"] else \"Not completed\"\n",
        "                print(f'{i + 1}. {task[\"task\"]} - {status}')\n",
        "\n",
        "\n",
        "todo_list = ToDoList()\n",
        "\n",
        "todo_list.add_task(\"Study formal language theory\")\n",
        "todo_list.add_task(\"Complete the gradient descent assignment\")\n",
        "todo_list.add_task(\"Work on the dataset\")\n",
        "\n",
        "todo_list.view_tasks()\n",
        "\n",
        "todo_list.complete_task(1)\n",
        "todo_list.view_tasks()\n",
        "\n",
        "todo_list.delete_task(0)\n",
        "todo_list.view_tasks()\n"
      ],
      "metadata": {
        "colab": {
          "base_uri": "https://localhost:8080/"
        },
        "id": "JNrOymXMb6fo",
        "outputId": "eca15585-aa6b-4eea-c193-5e5deab4da5b"
      },
      "execution_count": 1,
      "outputs": [
        {
          "output_type": "stream",
          "name": "stdout",
          "text": [
            "Added task: \"Study formal language theory\"\n",
            "Added task: \"Complete the gradient descent assignment\"\n",
            "Added task: \"Work on the dataset\"\n",
            "To-Do List:\n",
            "1. Study formal language theory - Not completed\n",
            "2. Complete the gradient descent assignment - Not completed\n",
            "3. Work on the dataset - Not completed\n",
            "Task 2 marked as completed.\n",
            "To-Do List:\n",
            "1. Study formal language theory - Not completed\n",
            "2. Complete the gradient descent assignment - Completed\n",
            "3. Work on the dataset - Not completed\n",
            "Deleted task: \"Study formal language theory\"\n",
            "To-Do List:\n",
            "1. Complete the gradient descent assignment - Completed\n",
            "2. Work on the dataset - Not completed\n"
          ]
        }
      ]
    },
    {
      "cell_type": "markdown",
      "source": [
        "**Caluculator Task -2**"
      ],
      "metadata": {
        "id": "-WLOUWxHeV0V"
      }
    },
    {
      "cell_type": "code",
      "source": [
        "# Simple Calculator\n",
        "\n",
        "\n",
        "def calculate(num1, num2, operation):\n",
        "    if operation == '+':\n",
        "        return num1 + num2\n",
        "    elif operation == '-':\n",
        "        return num1 - num2\n",
        "    elif operation == '*':\n",
        "        return num1 * num2\n",
        "    elif operation == '/':\n",
        "        return num1 / num2\n",
        "    else:\n",
        "        return \"Invalid operation\"\n",
        "\n",
        "\n",
        "def main():\n",
        "    try:\n",
        "\n",
        "        num1 = float(input(\"Enter the first number: \"))\n",
        "        num2 = float(input(\"Enter the second number: \"))\n",
        "        operation = input(\"Choose an operation (+, -, *, /): \")\n",
        "\n",
        "\n",
        "        result = calculate(num1, num2, operation)\n",
        "\n",
        "\n",
        "        print(f\"The result of {num1} {operation} {num2} = {result}\")\n",
        "\n",
        "    except ValueError:\n",
        "        print(\"Please enter valid numbers.\")\n",
        "    except ZeroDivisionError:\n",
        "        print(\"Division by zero is not allowed.\")\n",
        "\n",
        "if __name__ == \"__main__\":\n",
        "    main()\n"
      ],
      "metadata": {
        "colab": {
          "base_uri": "https://localhost:8080/"
        },
        "id": "WQAr1SIDfocu",
        "outputId": "677955b5-92e8-4b8f-f7ff-3c842e0fa9e8"
      },
      "execution_count": 6,
      "outputs": [
        {
          "output_type": "stream",
          "name": "stdout",
          "text": [
            "Enter the first number: 23\n",
            "Enter the second number: 20\n",
            "Choose an operation (+, -, *, /): +\n",
            "The result of 23.0 + 20.0 = 43.0\n"
          ]
        }
      ]
    },
    {
      "cell_type": "markdown",
      "source": [
        "**Rock-Paper-Scissors Game Task -3**"
      ],
      "metadata": {
        "id": "-_lC79tjiiDd"
      }
    },
    {
      "cell_type": "code",
      "source": [
        "import random\n",
        "\n",
        "\n",
        "def get_computer_choice():\n",
        "    return random.choice(['rock', 'paper', 'scissors'])\n",
        "\n",
        "\n",
        "def determine_winner(user_choice, computer_choice):\n",
        "    if user_choice == computer_choice:\n",
        "        return \"tie\"\n",
        "    elif (user_choice == 'rock' and computer_choice == 'scissors') or \\\n",
        "         (user_choice == 'scissors' and computer_choice == 'paper') or \\\n",
        "         (user_choice == 'paper' and computer_choice == 'rock'):\n",
        "        return \"user\"\n",
        "    else:\n",
        "        return \"computer\"\n",
        "\n",
        "\n",
        "def display_result(user_choice, computer_choice, result):\n",
        "    print(f\"\\nYou chose: {user_choice}\")\n",
        "    print(f\"Computer chose: {computer_choice}\")\n",
        "\n",
        "    if result == \"tie\":\n",
        "        print(\"It's a tie!\")\n",
        "    elif result == \"user\":\n",
        "        print(\"You win!\")\n",
        "    else:\n",
        "        print(\"You lose!\")\n",
        "\n",
        "\n",
        "def main():\n",
        "    user_score = 0\n",
        "    computer_score = 0\n",
        "\n",
        "    print(\"Welcome to Rock, Paper, Scissors!\")\n",
        "\n",
        "    while True:\n",
        "\n",
        "        user_choice = input(\"\\nChoose rock, paper, or scissors: \").lower()\n",
        "\n",
        "        if user_choice not in ['rock', 'paper', 'scissors']:\n",
        "            print(\"Invalid choice. Please try again.\")\n",
        "            continue\n",
        "\n",
        "\n",
        "        computer_choice = get_computer_choice()\n",
        "\n",
        "\n",
        "        result = determine_winner(user_choice, computer_choice)\n",
        "\n",
        "\n",
        "        if result == \"user\":\n",
        "            user_score += 1\n",
        "        elif result == \"computer\":\n",
        "            computer_score += 1\n",
        "\n",
        "\n",
        "        display_result(user_choice, computer_choice, result)\n",
        "\n",
        "\n",
        "        print(f\"\\nCurrent Scores - You: {user_score}, Computer: {computer_score}\")\n",
        "\n",
        "\n",
        "        play_again = input(\"\\nDo you want to play again? (yes/no): \").lower()\n",
        "        if play_again != 'yes':\n",
        "            print(\"Thanks for playing!\")\n",
        "            break\n",
        "\n",
        "if __name__ == \"__main__\":\n",
        "    main()\n"
      ],
      "metadata": {
        "colab": {
          "base_uri": "https://localhost:8080/"
        },
        "id": "UTjHqvJTkJHk",
        "outputId": "fe99feea-a6b8-48fa-a558-7951afd4581e"
      },
      "execution_count": 10,
      "outputs": [
        {
          "output_type": "stream",
          "name": "stdout",
          "text": [
            "Welcome to Rock, Paper, Scissors!\n",
            "\n",
            "Choose rock, paper, or scissors: paper\n",
            "\n",
            "You chose: paper\n",
            "Computer chose: paper\n",
            "It's a tie!\n",
            "\n",
            "Current Scores - You: 0, Computer: 0\n",
            "\n",
            "Do you want to play again? (yes/no): yes\n",
            "\n",
            "Choose rock, paper, or scissors: rock\n",
            "\n",
            "You chose: rock\n",
            "Computer chose: rock\n",
            "It's a tie!\n",
            "\n",
            "Current Scores - You: 0, Computer: 0\n",
            "\n",
            "Do you want to play again? (yes/no): no\n",
            "Thanks for playing!\n"
          ]
        }
      ]
    }
  ]
}